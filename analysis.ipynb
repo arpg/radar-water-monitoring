{
 "cells": [
  {
   "cell_type": "markdown",
   "id": "0a89ab54-36d8-4f1c-bd6c-60edd4a80fb2",
   "metadata": {},
   "source": [
    "[data](https://o365coloradoedu-my.sharepoint.com/:f:/g/personal/anza4273_colorado_edu/Emctie6mJf5PsXxOzXd_jawBO2UcDfpsXFRFlvxeAXSmxA?e=abpIHF)"
   ]
  },
  {
   "cell_type": "code",
   "execution_count": 6,
   "id": "6c9f203a-7e21-464c-b605-c954a782a126",
   "metadata": {},
   "outputs": [],
   "source": [
    "import pickle\n",
    "\n",
    "import bag_utils as utils\n",
    "\n",
    "%matplotlib inline\n",
    "\n",
    "\n",
    "tmp_file = 'tmp_data.pkl'"
   ]
  },
  {
   "cell_type": "code",
   "execution_count": 3,
   "id": "95cb3b38-e4e4-47e7-a531-3a40b764698a",
   "metadata": {},
   "outputs": [],
   "source": [
    "import csv\n",
    "import datetime\n",
    "import os\n",
    "\n",
    "import numpy as np\n",
    "import ipywidgets as widgets\n",
    "import matplotlib.animation as anim\n",
    "import matplotlib.pyplot as plt\n",
    "from scipy import stats\n",
    "from tqdm import tqdm\n",
    "\n",
    "import rosbag\n",
    "from sensor_msgs.msg import Imu\n",
    "from sensor_msgs import point_cloud2 as pc2\n",
    "import tf.transformations as tf"
   ]
  },
  {
   "cell_type": "code",
   "execution_count": 2,
   "id": "01136fac-05db-4bf9-a114-ffdb3d0b121d",
   "metadata": {},
   "outputs": [],
   "source": []
  },
  {
   "cell_type": "markdown",
   "id": "3ca2ce5e-8844-4d10-980e-89e698646bf6",
   "metadata": {},
   "source": [
    "#### 0. Read and process the data, takes a while, processed stats can be saved in a file."
   ]
  },
  {
   "cell_type": "code",
   "execution_count": 3,
   "id": "4ca74da2-0142-4a18-a0b9-0dc3d6ada4dd",
   "metadata": {
    "scrolled": true
   },
   "outputs": [
    {
     "name": "stdout",
     "output_type": "stream",
     "text": [
      "Processing 114 files\n"
     ]
    },
    {
     "name": "stderr",
     "output_type": "stream",
     "text": [
      "  0%|                                                   | 0/114 [00:00<?, ?it/s]/home/arpg/RWM/bag_utils.py:231: FutureWarning: Unlike other reduction functions (e.g. `skew`, `kurtosis`), the default behavior of `mode` typically preserves the axis it acts along. In SciPy 1.11.0, this behavior will change: the default value of `keepdims` will become False, the `axis` over which the statistic is taken will be eliminated, and the value None will no longer be accepted. Set `keepdims` to True or False to avoid this warning.\n",
      "  y_max_intens_mode = stats.mode(y_max_intens.round(2)).mode[0]\n",
      "/home/arpg/RWM/bag_utils.py:232: FutureWarning: Unlike other reduction functions (e.g. `skew`, `kurtosis`), the default behavior of `mode` typically preserves the axis it acts along. In SciPy 1.11.0, this behavior will change: the default value of `keepdims` will become False, the `axis` over which the statistic is taken will be eliminated, and the value None will no longer be accepted. Set `keepdims` to True or False to avoid this warning.\n",
      "  y_min_mode = stats.mode(y_min.round(2)).mode[0]\n",
      "/home/arpg/RWM/bag_utils.py:233: FutureWarning: Unlike other reduction functions (e.g. `skew`, `kurtosis`), the default behavior of `mode` typically preserves the axis it acts along. In SciPy 1.11.0, this behavior will change: the default value of `keepdims` will become False, the `axis` over which the statistic is taken will be eliminated, and the value None will no longer be accepted. Set `keepdims` to True or False to avoid this warning.\n",
      "  y_mean_mode = stats.mode(y_mean.round(2)).mode[0]\n",
      "/home/arpg/RWM/bag_utils.py:234: FutureWarning: Unlike other reduction functions (e.g. `skew`, `kurtosis`), the default behavior of `mode` typically preserves the axis it acts along. In SciPy 1.11.0, this behavior will change: the default value of `keepdims` will become False, the `axis` over which the statistic is taken will be eliminated, and the value None will no longer be accepted. Set `keepdims` to True or False to avoid this warning.\n",
      "  y_median_mode = stats.mode(y_median).mode[0]\n",
      "/home/arpg/RWM/bag_utils.py:235: FutureWarning: Unlike other reduction functions (e.g. `skew`, `kurtosis`), the default behavior of `mode` typically preserves the axis it acts along. In SciPy 1.11.0, this behavior will change: the default value of `keepdims` will become False, the `axis` over which the statistic is taken will be eliminated, and the value None will no longer be accepted. Set `keepdims` to True or False to avoid this warning.\n",
      "  y_max_mode = stats.mode(y_max.round(2)).mode[0]\n",
      "/home/arpg/RWM/bag_utils.py:298: FutureWarning: Unlike other reduction functions (e.g. `skew`, `kurtosis`), the default behavior of `mode` typically preserves the axis it acts along. In SciPy 1.11.0, this behavior will change: the default value of `keepdims` will become False, the `axis` over which the statistic is taken will be eliminated, and the value None will no longer be accepted. Set `keepdims` to True or False to avoid this warning.\n",
      "  y_max_intens_mode = stats.mode(y_max_intens.round(2)).mode[0]\n",
      "/home/arpg/RWM/bag_utils.py:299: FutureWarning: Unlike other reduction functions (e.g. `skew`, `kurtosis`), the default behavior of `mode` typically preserves the axis it acts along. In SciPy 1.11.0, this behavior will change: the default value of `keepdims` will become False, the `axis` over which the statistic is taken will be eliminated, and the value None will no longer be accepted. Set `keepdims` to True or False to avoid this warning.\n",
      "  y_min_mode = stats.mode(y_min.round(2)).mode[0]\n",
      "/home/arpg/RWM/bag_utils.py:300: FutureWarning: Unlike other reduction functions (e.g. `skew`, `kurtosis`), the default behavior of `mode` typically preserves the axis it acts along. In SciPy 1.11.0, this behavior will change: the default value of `keepdims` will become False, the `axis` over which the statistic is taken will be eliminated, and the value None will no longer be accepted. Set `keepdims` to True or False to avoid this warning.\n",
      "  y_mean_mode = stats.mode(y_mean.round(2)).mode[0]\n",
      "/home/arpg/RWM/bag_utils.py:301: FutureWarning: Unlike other reduction functions (e.g. `skew`, `kurtosis`), the default behavior of `mode` typically preserves the axis it acts along. In SciPy 1.11.0, this behavior will change: the default value of `keepdims` will become False, the `axis` over which the statistic is taken will be eliminated, and the value None will no longer be accepted. Set `keepdims` to True or False to avoid this warning.\n",
      "  y_median_mode = stats.mode(y_median).mode[0]\n",
      "/home/arpg/RWM/bag_utils.py:302: FutureWarning: Unlike other reduction functions (e.g. `skew`, `kurtosis`), the default behavior of `mode` typically preserves the axis it acts along. In SciPy 1.11.0, this behavior will change: the default value of `keepdims` will become False, the `axis` over which the statistic is taken will be eliminated, and the value None will no longer be accepted. Set `keepdims` to True or False to avoid this warning.\n",
      "  y_max_mode = stats.mode(y_max.round(2)).mode[0]\n",
      "100%|█████████████████████████████████████████| 114/114 [02:38<00:00,  1.39s/it]\n"
     ]
    }
   ],
   "source": [
    "data = utils.process_bags(bags_folder='deployment_nov2023', return_dates=True, show_plots=False)\n",
    "with open(tmp_file, 'wb') as f:\n",
    "    pickle.dump(data, f)"
   ]
  },
  {
   "cell_type": "markdown",
   "id": "4876fcea-cadf-496e-bd7d-befaca7d79d2",
   "metadata": {},
   "source": [
    "#### 1. Load preprocessed data"
   ]
  },
  {
   "cell_type": "code",
   "execution_count": 3,
   "id": "23a60255-9194-41a4-9b2c-1778883f9b68",
   "metadata": {},
   "outputs": [],
   "source": [
    "with open(tmp_file, 'rb') as f:\n",
    "    data = pickle.load(f) \n",
    "gt = utils.read_gt('deployment_nov2023/GT_Nov2023.csv')"
   ]
  },
  {
   "cell_type": "markdown",
   "id": "386c3a07-30e6-4243-9045-bfc72c6894ff",
   "metadata": {},
   "source": [
    "#### 2. Plot data"
   ]
  },
  {
   "cell_type": "code",
   "execution_count": 5,
   "id": "d086b334-9855-40f8-b4bc-dc2f84b9aa49",
   "metadata": {},
   "outputs": [
    {
     "ename": "TypeError",
     "evalue": "unsupported operand type(s) for -: 'NoneType' and 'NoneType'",
     "output_type": "error",
     "traceback": [
      "\u001b[0;31m---------------------------------------------------------------------------\u001b[0m",
      "\u001b[0;31mTypeError\u001b[0m                                 Traceback (most recent call last)",
      "Cell \u001b[0;32mIn[5], line 1\u001b[0m\n\u001b[0;32m----> 1\u001b[0m \u001b[43mutils\u001b[49m\u001b[38;5;241;43m.\u001b[39;49m\u001b[43mplot_total\u001b[49m\u001b[43m(\u001b[49m\u001b[43mdata\u001b[49m\u001b[43m,\u001b[49m\u001b[43m \u001b[49m\u001b[43mgt\u001b[49m\u001b[43m,\u001b[49m\u001b[43m \u001b[49m\u001b[43mlabel_dates\u001b[49m\u001b[38;5;241;43m=\u001b[39;49m\u001b[38;5;28;43;01mTrue\u001b[39;49;00m\u001b[43m)\u001b[49m\n",
      "File \u001b[0;32m~/RWM/bag_utils.py:444\u001b[0m, in \u001b[0;36mplot_total\u001b[0;34m(data, gt, label_dates)\u001b[0m\n\u001b[1;32m    442\u001b[0m     depth_diffs\u001b[38;5;241m.\u001b[39mappend(depth \u001b[38;5;241m-\u001b[39m gt[\u001b[38;5;241m1\u001b[39m][\u001b[38;5;241m0\u001b[39m])\n\u001b[1;32m    443\u001b[0m \u001b[38;5;28;01mfor\u001b[39;00m min_y, y_max, y_min \u001b[38;5;129;01min\u001b[39;00m \u001b[38;5;28mzip\u001b[39m(min_y_1443[\u001b[38;5;241m1\u001b[39m:], y_max_intens_mode_1443[\u001b[38;5;241m1\u001b[39m:], y_min_mode_1443[\u001b[38;5;241m1\u001b[39m:]):\n\u001b[0;32m--> 444\u001b[0m     min_y_1443_diffs\u001b[38;5;241m.\u001b[39mappend(\u001b[43mmin_y_1443\u001b[49m\u001b[43m[\u001b[49m\u001b[38;5;241;43m0\u001b[39;49m\u001b[43m]\u001b[49m\u001b[43m \u001b[49m\u001b[38;5;241;43m-\u001b[39;49m\u001b[43m \u001b[49m\u001b[43mmin_y\u001b[49m)\n\u001b[1;32m    445\u001b[0m     y_max_intens_mode_1443_diffs\u001b[38;5;241m.\u001b[39mappend(y_max_intens_mode_1443[\u001b[38;5;241m0\u001b[39m] \u001b[38;5;241m-\u001b[39m y_max)\n\u001b[1;32m    446\u001b[0m     y_min_mode_1443_diffs\u001b[38;5;241m.\u001b[39mappend(y_min_mode_1443[\u001b[38;5;241m0\u001b[39m] \u001b[38;5;241m-\u001b[39m y_min)\n",
      "\u001b[0;31mTypeError\u001b[0m: unsupported operand type(s) for -: 'NoneType' and 'NoneType'"
     ]
    }
   ],
   "source": [
    "utils.plot_total(data, gt, label_dates=True)"
   ]
  },
  {
   "cell_type": "code",
   "execution_count": null,
   "id": "435d30a1-34d8-4d8d-88cc-2cb9d94f446f",
   "metadata": {},
   "outputs": [],
   "source": []
  }
 ],
 "metadata": {
  "kernelspec": {
   "display_name": "Python 3 (ipykernel)",
   "language": "python",
   "name": "python3"
  },
  "language_info": {
   "codemirror_mode": {
    "name": "ipython",
    "version": 3
   },
   "file_extension": ".py",
   "mimetype": "text/x-python",
   "name": "python",
   "nbconvert_exporter": "python",
   "pygments_lexer": "ipython3",
   "version": "3.8.10"
  }
 },
 "nbformat": 4,
 "nbformat_minor": 5
}
